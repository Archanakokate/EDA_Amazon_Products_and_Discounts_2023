{
 "cells": [
  {
   "cell_type": "markdown",
   "id": "ba2016d2",
   "metadata": {},
   "source": [
    "## Exploratory Data Analysis - Amazon Products and Discounts 2023"
   ]
  },
  {
   "cell_type": "markdown",
   "id": "d95e1999",
   "metadata": {},
   "source": [
    "#### Problem Statement:\n",
    "- Perform Data Cleaning and Exploratory Data Analysis (EDA).\n",
    "- Identify patterns and trends in the data.\n",
    "- Explore the relationships between variables.\n",
    "\n",
    "\n",
    "#### Dataset description\n",
    "\n",
    "This is a Product Sales Dataset scraped from the Amazon website.\n",
    "\n",
    "##### Features:\n",
    "- name : The name of the product\n",
    "- main_category : The main category of the product \n",
    "- sub_category : The sub category of the product \n",
    "- image : The image of the product \n",
    "- link : The amazon website reference link of the product\n",
    "- ratings : The ratings given by amazon customers to the product\n",
    "- no of ratings : The number of ratings given to this product in amazon shopping\n",
    "- discount_price : The discount prices of the product\n",
    "- actual_price : The actual MRP of the product"
   ]
  },
  {
   "cell_type": "code",
   "execution_count": 69,
   "id": "490486d4",
   "metadata": {},
   "outputs": [],
   "source": [
    "import pandas as pd\n",
    "import numpy as np\n",
    "import seaborn as sns\n",
    "import matplotlib.pyplot as plt\n",
    "%matplotlib inline"
   ]
  },
  {
   "cell_type": "code",
   "execution_count": 70,
   "id": "c5bbe9c3",
   "metadata": {},
   "outputs": [],
   "source": [
    "amazon = pd.read_csv(\"Amazon-Products.csv\")"
   ]
  },
  {
   "cell_type": "code",
   "execution_count": 71,
   "id": "a4c58aa6",
   "metadata": {},
   "outputs": [
    {
     "data": {
      "text/plain": [
       "(551585, 10)"
      ]
     },
     "execution_count": 71,
     "metadata": {},
     "output_type": "execute_result"
    }
   ],
   "source": [
    "amazon.shape"
   ]
  },
  {
   "cell_type": "code",
   "execution_count": 72,
   "id": "8976b3ae",
   "metadata": {},
   "outputs": [
    {
     "data": {
      "text/html": [
       "<div>\n",
       "<style scoped>\n",
       "    .dataframe tbody tr th:only-of-type {\n",
       "        vertical-align: middle;\n",
       "    }\n",
       "\n",
       "    .dataframe tbody tr th {\n",
       "        vertical-align: top;\n",
       "    }\n",
       "\n",
       "    .dataframe thead th {\n",
       "        text-align: right;\n",
       "    }\n",
       "</style>\n",
       "<table border=\"1\" class=\"dataframe\">\n",
       "  <thead>\n",
       "    <tr style=\"text-align: right;\">\n",
       "      <th></th>\n",
       "      <th>Unnamed: 0</th>\n",
       "      <th>name</th>\n",
       "      <th>main_category</th>\n",
       "      <th>sub_category</th>\n",
       "      <th>image</th>\n",
       "      <th>link</th>\n",
       "      <th>ratings</th>\n",
       "      <th>no_of_ratings</th>\n",
       "      <th>discount_price</th>\n",
       "      <th>actual_price</th>\n",
       "    </tr>\n",
       "  </thead>\n",
       "  <tbody>\n",
       "    <tr>\n",
       "      <th>0</th>\n",
       "      <td>0</td>\n",
       "      <td>Lloyd 1.5 Ton 3 Star Inverter Split Ac (5 In 1...</td>\n",
       "      <td>appliances</td>\n",
       "      <td>Air Conditioners</td>\n",
       "      <td>https://m.media-amazon.com/images/I/31UISB90sY...</td>\n",
       "      <td>https://www.amazon.in/Lloyd-Inverter-Convertib...</td>\n",
       "      <td>4.2</td>\n",
       "      <td>2,255</td>\n",
       "      <td>₹32,999</td>\n",
       "      <td>₹58,990</td>\n",
       "    </tr>\n",
       "    <tr>\n",
       "      <th>1</th>\n",
       "      <td>1</td>\n",
       "      <td>LG 1.5 Ton 5 Star AI DUAL Inverter Split AC (C...</td>\n",
       "      <td>appliances</td>\n",
       "      <td>Air Conditioners</td>\n",
       "      <td>https://m.media-amazon.com/images/I/51JFb7FctD...</td>\n",
       "      <td>https://www.amazon.in/LG-Convertible-Anti-Viru...</td>\n",
       "      <td>4.2</td>\n",
       "      <td>2,948</td>\n",
       "      <td>₹46,490</td>\n",
       "      <td>₹75,990</td>\n",
       "    </tr>\n",
       "    <tr>\n",
       "      <th>2</th>\n",
       "      <td>2</td>\n",
       "      <td>LG 1 Ton 4 Star Ai Dual Inverter Split Ac (Cop...</td>\n",
       "      <td>appliances</td>\n",
       "      <td>Air Conditioners</td>\n",
       "      <td>https://m.media-amazon.com/images/I/51JFb7FctD...</td>\n",
       "      <td>https://www.amazon.in/LG-Inverter-Convertible-...</td>\n",
       "      <td>4.2</td>\n",
       "      <td>1,206</td>\n",
       "      <td>₹34,490</td>\n",
       "      <td>₹61,990</td>\n",
       "    </tr>\n",
       "  </tbody>\n",
       "</table>\n",
       "</div>"
      ],
      "text/plain": [
       "   Unnamed: 0                                               name  \\\n",
       "0           0  Lloyd 1.5 Ton 3 Star Inverter Split Ac (5 In 1...   \n",
       "1           1  LG 1.5 Ton 5 Star AI DUAL Inverter Split AC (C...   \n",
       "2           2  LG 1 Ton 4 Star Ai Dual Inverter Split Ac (Cop...   \n",
       "\n",
       "  main_category      sub_category  \\\n",
       "0    appliances  Air Conditioners   \n",
       "1    appliances  Air Conditioners   \n",
       "2    appliances  Air Conditioners   \n",
       "\n",
       "                                               image  \\\n",
       "0  https://m.media-amazon.com/images/I/31UISB90sY...   \n",
       "1  https://m.media-amazon.com/images/I/51JFb7FctD...   \n",
       "2  https://m.media-amazon.com/images/I/51JFb7FctD...   \n",
       "\n",
       "                                                link ratings no_of_ratings  \\\n",
       "0  https://www.amazon.in/Lloyd-Inverter-Convertib...     4.2         2,255   \n",
       "1  https://www.amazon.in/LG-Convertible-Anti-Viru...     4.2         2,948   \n",
       "2  https://www.amazon.in/LG-Inverter-Convertible-...     4.2         1,206   \n",
       "\n",
       "  discount_price actual_price  \n",
       "0        ₹32,999      ₹58,990  \n",
       "1        ₹46,490      ₹75,990  \n",
       "2        ₹34,490      ₹61,990  "
      ]
     },
     "execution_count": 72,
     "metadata": {},
     "output_type": "execute_result"
    }
   ],
   "source": [
    "amazon.head(3)"
   ]
  },
  {
   "cell_type": "code",
   "execution_count": 73,
   "id": "76c488d7",
   "metadata": {},
   "outputs": [],
   "source": [
    "#Dropping unnecessary columns\n",
    "\n",
    "amazon.drop([\"Unnamed: 0\",\"image\",\"link\"], axis=1, inplace=True)"
   ]
  },
  {
   "cell_type": "code",
   "execution_count": 74,
   "id": "396168f2",
   "metadata": {},
   "outputs": [
    {
     "data": {
      "text/html": [
       "<div>\n",
       "<style scoped>\n",
       "    .dataframe tbody tr th:only-of-type {\n",
       "        vertical-align: middle;\n",
       "    }\n",
       "\n",
       "    .dataframe tbody tr th {\n",
       "        vertical-align: top;\n",
       "    }\n",
       "\n",
       "    .dataframe thead th {\n",
       "        text-align: right;\n",
       "    }\n",
       "</style>\n",
       "<table border=\"1\" class=\"dataframe\">\n",
       "  <thead>\n",
       "    <tr style=\"text-align: right;\">\n",
       "      <th></th>\n",
       "      <th>name</th>\n",
       "      <th>main_category</th>\n",
       "      <th>sub_category</th>\n",
       "      <th>ratings</th>\n",
       "      <th>no_of_ratings</th>\n",
       "      <th>discount_price</th>\n",
       "      <th>actual_price</th>\n",
       "    </tr>\n",
       "  </thead>\n",
       "  <tbody>\n",
       "    <tr>\n",
       "      <th>0</th>\n",
       "      <td>Lloyd 1.5 Ton 3 Star Inverter Split Ac (5 In 1...</td>\n",
       "      <td>appliances</td>\n",
       "      <td>Air Conditioners</td>\n",
       "      <td>4.2</td>\n",
       "      <td>2,255</td>\n",
       "      <td>₹32,999</td>\n",
       "      <td>₹58,990</td>\n",
       "    </tr>\n",
       "    <tr>\n",
       "      <th>1</th>\n",
       "      <td>LG 1.5 Ton 5 Star AI DUAL Inverter Split AC (C...</td>\n",
       "      <td>appliances</td>\n",
       "      <td>Air Conditioners</td>\n",
       "      <td>4.2</td>\n",
       "      <td>2,948</td>\n",
       "      <td>₹46,490</td>\n",
       "      <td>₹75,990</td>\n",
       "    </tr>\n",
       "    <tr>\n",
       "      <th>2</th>\n",
       "      <td>LG 1 Ton 4 Star Ai Dual Inverter Split Ac (Cop...</td>\n",
       "      <td>appliances</td>\n",
       "      <td>Air Conditioners</td>\n",
       "      <td>4.2</td>\n",
       "      <td>1,206</td>\n",
       "      <td>₹34,490</td>\n",
       "      <td>₹61,990</td>\n",
       "    </tr>\n",
       "  </tbody>\n",
       "</table>\n",
       "</div>"
      ],
      "text/plain": [
       "                                                name main_category  \\\n",
       "0  Lloyd 1.5 Ton 3 Star Inverter Split Ac (5 In 1...    appliances   \n",
       "1  LG 1.5 Ton 5 Star AI DUAL Inverter Split AC (C...    appliances   \n",
       "2  LG 1 Ton 4 Star Ai Dual Inverter Split Ac (Cop...    appliances   \n",
       "\n",
       "       sub_category ratings no_of_ratings discount_price actual_price  \n",
       "0  Air Conditioners     4.2         2,255        ₹32,999      ₹58,990  \n",
       "1  Air Conditioners     4.2         2,948        ₹46,490      ₹75,990  \n",
       "2  Air Conditioners     4.2         1,206        ₹34,490      ₹61,990  "
      ]
     },
     "execution_count": 74,
     "metadata": {},
     "output_type": "execute_result"
    }
   ],
   "source": [
    "amazon.head(3)"
   ]
  },
  {
   "cell_type": "code",
   "execution_count": 75,
   "id": "50dc4e4f",
   "metadata": {
    "scrolled": true
   },
   "outputs": [
    {
     "name": "stdout",
     "output_type": "stream",
     "text": [
      "<class 'pandas.core.frame.DataFrame'>\n",
      "RangeIndex: 551585 entries, 0 to 551584\n",
      "Data columns (total 7 columns):\n",
      " #   Column          Non-Null Count   Dtype \n",
      "---  ------          --------------   ----- \n",
      " 0   name            551585 non-null  object\n",
      " 1   main_category   551585 non-null  object\n",
      " 2   sub_category    551585 non-null  object\n",
      " 3   ratings         375791 non-null  object\n",
      " 4   no_of_ratings   375791 non-null  object\n",
      " 5   discount_price  490422 non-null  object\n",
      " 6   actual_price    533772 non-null  object\n",
      "dtypes: object(7)\n",
      "memory usage: 29.5+ MB\n"
     ]
    }
   ],
   "source": [
    "amazon.info()"
   ]
  },
  {
   "cell_type": "markdown",
   "id": "9ee4b943",
   "metadata": {},
   "source": [
    "The columns \"ratings\", \"no_of_ratings\", \"discount_price\" and \"actual_price\" have datatype \"object\". We need to change it to Integer or Float.\n",
    "\n",
    "Before that let us deal with the missing values"
   ]
  },
  {
   "cell_type": "markdown",
   "id": "63a9d699",
   "metadata": {},
   "source": [
    "### Handling Missing Values"
   ]
  },
  {
   "cell_type": "code",
   "execution_count": 76,
   "id": "f1b35190",
   "metadata": {},
   "outputs": [
    {
     "data": {
      "text/plain": [
       "name                   0\n",
       "main_category          0\n",
       "sub_category           0\n",
       "ratings           175794\n",
       "no_of_ratings     175794\n",
       "discount_price     61163\n",
       "actual_price       17813\n",
       "dtype: int64"
      ]
     },
     "execution_count": 76,
     "metadata": {},
     "output_type": "execute_result"
    }
   ],
   "source": [
    "amazon.isnull().sum()"
   ]
  },
  {
   "cell_type": "code",
   "execution_count": 77,
   "id": "ef9cbcbc",
   "metadata": {},
   "outputs": [],
   "source": [
    "#Dropping \"actual_price\" rows having missing values\n",
    "#Note- we cannot use dropna() method as the datatype of this column is \"object\" which will be corrected later in our code\n",
    "\n",
    "index = amazon[amazon.actual_price.isnull()].index\n",
    "amazon.drop(index, axis=0, inplace=True)"
   ]
  },
  {
   "cell_type": "code",
   "execution_count": 78,
   "id": "7f4bb1b6",
   "metadata": {},
   "outputs": [
    {
     "data": {
      "text/plain": [
       "name                   0\n",
       "main_category          0\n",
       "sub_category           0\n",
       "ratings           164742\n",
       "no_of_ratings     164742\n",
       "discount_price     43350\n",
       "actual_price           0\n",
       "dtype: int64"
      ]
     },
     "execution_count": 78,
     "metadata": {},
     "output_type": "execute_result"
    }
   ],
   "source": [
    "#rechecking remaining missing values\n",
    "amazon.isnull().sum()"
   ]
  },
  {
   "cell_type": "code",
   "execution_count": 79,
   "id": "cc28d7d0",
   "metadata": {},
   "outputs": [
    {
     "data": {
      "text/html": [
       "<div>\n",
       "<style scoped>\n",
       "    .dataframe tbody tr th:only-of-type {\n",
       "        vertical-align: middle;\n",
       "    }\n",
       "\n",
       "    .dataframe tbody tr th {\n",
       "        vertical-align: top;\n",
       "    }\n",
       "\n",
       "    .dataframe thead th {\n",
       "        text-align: right;\n",
       "    }\n",
       "</style>\n",
       "<table border=\"1\" class=\"dataframe\">\n",
       "  <thead>\n",
       "    <tr style=\"text-align: right;\">\n",
       "      <th></th>\n",
       "      <th>name</th>\n",
       "      <th>main_category</th>\n",
       "      <th>sub_category</th>\n",
       "      <th>ratings</th>\n",
       "      <th>no_of_ratings</th>\n",
       "      <th>discount_price</th>\n",
       "      <th>actual_price</th>\n",
       "    </tr>\n",
       "  </thead>\n",
       "  <tbody>\n",
       "    <tr>\n",
       "      <th>126</th>\n",
       "      <td>Hitachi 1.5 Ton 5 Star Window AC (Copper, Dust...</td>\n",
       "      <td>appliances</td>\n",
       "      <td>Air Conditioners</td>\n",
       "      <td>2.7</td>\n",
       "      <td>10</td>\n",
       "      <td>NaN</td>\n",
       "      <td>₹49,300</td>\n",
       "    </tr>\n",
       "    <tr>\n",
       "      <th>137</th>\n",
       "      <td>Portable Air Conditioner,Office Air Conditione...</td>\n",
       "      <td>appliances</td>\n",
       "      <td>Air Conditioners</td>\n",
       "      <td>3.2</td>\n",
       "      <td>303</td>\n",
       "      <td>NaN</td>\n",
       "      <td>₹7,250</td>\n",
       "    </tr>\n",
       "    <tr>\n",
       "      <th>207</th>\n",
       "      <td>Voltas 1.5 Ton 3 Star Window AC (Copper 183CYA...</td>\n",
       "      <td>appliances</td>\n",
       "      <td>Air Conditioners</td>\n",
       "      <td>4.1</td>\n",
       "      <td>1,832</td>\n",
       "      <td>NaN</td>\n",
       "      <td>₹31,750</td>\n",
       "    </tr>\n",
       "    <tr>\n",
       "      <th>212</th>\n",
       "      <td>FANCISUN Portable Air Conditioner,Personal Air...</td>\n",
       "      <td>appliances</td>\n",
       "      <td>Air Conditioners</td>\n",
       "      <td>NaN</td>\n",
       "      <td>NaN</td>\n",
       "      <td>NaN</td>\n",
       "      <td>₹8,980</td>\n",
       "    </tr>\n",
       "    <tr>\n",
       "      <th>213</th>\n",
       "      <td>BENBOAR Portable Air Conditioner Fan, Desktop ...</td>\n",
       "      <td>appliances</td>\n",
       "      <td>Air Conditioners</td>\n",
       "      <td>3.3</td>\n",
       "      <td>24</td>\n",
       "      <td>NaN</td>\n",
       "      <td>₹4,969</td>\n",
       "    </tr>\n",
       "    <tr>\n",
       "      <th>...</th>\n",
       "      <td>...</td>\n",
       "      <td>...</td>\n",
       "      <td>...</td>\n",
       "      <td>...</td>\n",
       "      <td>...</td>\n",
       "      <td>...</td>\n",
       "      <td>...</td>\n",
       "    </tr>\n",
       "    <tr>\n",
       "      <th>551526</th>\n",
       "      <td>Nivia 2434 Polyester Women Jacket, X-Large (Tu...</td>\n",
       "      <td>sports &amp; fitness</td>\n",
       "      <td>Yoga</td>\n",
       "      <td>5.0</td>\n",
       "      <td>2</td>\n",
       "      <td>NaN</td>\n",
       "      <td>₹1,433</td>\n",
       "    </tr>\n",
       "    <tr>\n",
       "      <th>551535</th>\n",
       "      <td>Nivia 2367-3 Hydra-2 Polyester Training Tee, A...</td>\n",
       "      <td>sports &amp; fitness</td>\n",
       "      <td>Yoga</td>\n",
       "      <td>4.0</td>\n",
       "      <td>8</td>\n",
       "      <td>NaN</td>\n",
       "      <td>₹680</td>\n",
       "    </tr>\n",
       "    <tr>\n",
       "      <th>551536</th>\n",
       "      <td>Nivia 2365-3 Hydra-1 Polyester Training Tee, A...</td>\n",
       "      <td>sports &amp; fitness</td>\n",
       "      <td>Yoga</td>\n",
       "      <td>3.2</td>\n",
       "      <td>7</td>\n",
       "      <td>NaN</td>\n",
       "      <td>₹507</td>\n",
       "    </tr>\n",
       "    <tr>\n",
       "      <th>551542</th>\n",
       "      <td>Adidas Men's Flat</td>\n",
       "      <td>sports &amp; fitness</td>\n",
       "      <td>Yoga</td>\n",
       "      <td>NaN</td>\n",
       "      <td>NaN</td>\n",
       "      <td>NaN</td>\n",
       "      <td>₹2,699</td>\n",
       "    </tr>\n",
       "    <tr>\n",
       "      <th>551567</th>\n",
       "      <td>Adidas Women's Cotton Hooded Neck Sweatshirt</td>\n",
       "      <td>sports &amp; fitness</td>\n",
       "      <td>Yoga</td>\n",
       "      <td>3.9</td>\n",
       "      <td>3</td>\n",
       "      <td>NaN</td>\n",
       "      <td>₹4,799</td>\n",
       "    </tr>\n",
       "  </tbody>\n",
       "</table>\n",
       "<p>43350 rows × 7 columns</p>\n",
       "</div>"
      ],
      "text/plain": [
       "                                                     name     main_category  \\\n",
       "126     Hitachi 1.5 Ton 5 Star Window AC (Copper, Dust...        appliances   \n",
       "137     Portable Air Conditioner,Office Air Conditione...        appliances   \n",
       "207     Voltas 1.5 Ton 3 Star Window AC (Copper 183CYA...        appliances   \n",
       "212     FANCISUN Portable Air Conditioner,Personal Air...        appliances   \n",
       "213     BENBOAR Portable Air Conditioner Fan, Desktop ...        appliances   \n",
       "...                                                   ...               ...   \n",
       "551526  Nivia 2434 Polyester Women Jacket, X-Large (Tu...  sports & fitness   \n",
       "551535  Nivia 2367-3 Hydra-2 Polyester Training Tee, A...  sports & fitness   \n",
       "551536  Nivia 2365-3 Hydra-1 Polyester Training Tee, A...  sports & fitness   \n",
       "551542                                  Adidas Men's Flat  sports & fitness   \n",
       "551567       Adidas Women's Cotton Hooded Neck Sweatshirt  sports & fitness   \n",
       "\n",
       "            sub_category ratings no_of_ratings discount_price actual_price  \n",
       "126     Air Conditioners     2.7            10            NaN      ₹49,300  \n",
       "137     Air Conditioners     3.2           303            NaN       ₹7,250  \n",
       "207     Air Conditioners     4.1         1,832            NaN      ₹31,750  \n",
       "212     Air Conditioners     NaN           NaN            NaN       ₹8,980  \n",
       "213     Air Conditioners     3.3            24            NaN       ₹4,969  \n",
       "...                  ...     ...           ...            ...          ...  \n",
       "551526              Yoga     5.0             2            NaN       ₹1,433  \n",
       "551535              Yoga     4.0             8            NaN         ₹680  \n",
       "551536              Yoga     3.2             7            NaN         ₹507  \n",
       "551542              Yoga     NaN           NaN            NaN       ₹2,699  \n",
       "551567              Yoga     3.9             3            NaN       ₹4,799  \n",
       "\n",
       "[43350 rows x 7 columns]"
      ]
     },
     "execution_count": 79,
     "metadata": {},
     "output_type": "execute_result"
    }
   ],
   "source": [
    "#Assuming there are zero discount on products where \"discount_price\" values are missing, let us replace them with \"actual_price\"\n",
    "\n",
    "amazon[amazon.discount_price.isnull()]"
   ]
  },
  {
   "cell_type": "code",
   "execution_count": 80,
   "id": "1f1440c8",
   "metadata": {},
   "outputs": [],
   "source": [
    "#Replacing NaN with \"actual_price\"\n",
    "rows = amazon[amazon.discount_price.isnull()].index\n",
    "\n",
    "for i in rows:\n",
    "    amazon.loc[i][\"discount_price\"] = amazon.loc[i][\"actual_price\"]"
   ]
  },
  {
   "cell_type": "code",
   "execution_count": 81,
   "id": "f76c69d7",
   "metadata": {},
   "outputs": [
    {
     "data": {
      "text/plain": [
       "name                   0\n",
       "main_category          0\n",
       "sub_category           0\n",
       "ratings           164742\n",
       "no_of_ratings     164742\n",
       "discount_price         0\n",
       "actual_price           0\n",
       "dtype: int64"
      ]
     },
     "execution_count": 81,
     "metadata": {},
     "output_type": "execute_result"
    }
   ],
   "source": [
    "#recheking null values\n",
    "amazon.isnull().sum()"
   ]
  },
  {
   "cell_type": "code",
   "execution_count": 82,
   "id": "ca3051fa",
   "metadata": {},
   "outputs": [
    {
     "data": {
      "text/html": [
       "<div>\n",
       "<style scoped>\n",
       "    .dataframe tbody tr th:only-of-type {\n",
       "        vertical-align: middle;\n",
       "    }\n",
       "\n",
       "    .dataframe tbody tr th {\n",
       "        vertical-align: top;\n",
       "    }\n",
       "\n",
       "    .dataframe thead th {\n",
       "        text-align: right;\n",
       "    }\n",
       "</style>\n",
       "<table border=\"1\" class=\"dataframe\">\n",
       "  <thead>\n",
       "    <tr style=\"text-align: right;\">\n",
       "      <th></th>\n",
       "      <th>name</th>\n",
       "      <th>main_category</th>\n",
       "      <th>sub_category</th>\n",
       "      <th>ratings</th>\n",
       "      <th>no_of_ratings</th>\n",
       "      <th>discount_price</th>\n",
       "      <th>actual_price</th>\n",
       "    </tr>\n",
       "  </thead>\n",
       "  <tbody>\n",
       "    <tr>\n",
       "      <th>24</th>\n",
       "      <td>Lloyd 1.5 Ton 3 Star Fixed Speed Window Ac (Co...</td>\n",
       "      <td>appliances</td>\n",
       "      <td>Air Conditioners</td>\n",
       "      <td>NaN</td>\n",
       "      <td>NaN</td>\n",
       "      <td>₹27,440</td>\n",
       "      <td>₹47,990</td>\n",
       "    </tr>\n",
       "    <tr>\n",
       "      <th>50</th>\n",
       "      <td>Samsung 1 Ton 5 Star Inverter Split AC (Copper...</td>\n",
       "      <td>appliances</td>\n",
       "      <td>Air Conditioners</td>\n",
       "      <td>NaN</td>\n",
       "      <td>NaN</td>\n",
       "      <td>₹36,999</td>\n",
       "      <td>₹57,990</td>\n",
       "    </tr>\n",
       "    <tr>\n",
       "      <th>57</th>\n",
       "      <td>Haier 1.5 Ton 3 Star Frost Self Clean Inverter...</td>\n",
       "      <td>appliances</td>\n",
       "      <td>Air Conditioners</td>\n",
       "      <td>NaN</td>\n",
       "      <td>NaN</td>\n",
       "      <td>₹32,990</td>\n",
       "      <td>₹64,000</td>\n",
       "    </tr>\n",
       "    <tr>\n",
       "      <th>69</th>\n",
       "      <td>Lloyd 2.0 Ton 3 Star Inverter Split Ac (5 In 1...</td>\n",
       "      <td>appliances</td>\n",
       "      <td>Air Conditioners</td>\n",
       "      <td>NaN</td>\n",
       "      <td>NaN</td>\n",
       "      <td>₹46,000</td>\n",
       "      <td>₹77,990</td>\n",
       "    </tr>\n",
       "    <tr>\n",
       "      <th>73</th>\n",
       "      <td>Voltas 1.5 Ton 3 Star, Fixed Speed Window AC (...</td>\n",
       "      <td>appliances</td>\n",
       "      <td>Air Conditioners</td>\n",
       "      <td>NaN</td>\n",
       "      <td>NaN</td>\n",
       "      <td>₹29,990</td>\n",
       "      <td>₹42,990</td>\n",
       "    </tr>\n",
       "    <tr>\n",
       "      <th>...</th>\n",
       "      <td>...</td>\n",
       "      <td>...</td>\n",
       "      <td>...</td>\n",
       "      <td>...</td>\n",
       "      <td>...</td>\n",
       "      <td>...</td>\n",
       "      <td>...</td>\n",
       "    </tr>\n",
       "    <tr>\n",
       "      <th>551543</th>\n",
       "      <td>Puma Women Sweatshirt</td>\n",
       "      <td>sports &amp; fitness</td>\n",
       "      <td>Yoga</td>\n",
       "      <td>NaN</td>\n",
       "      <td>NaN</td>\n",
       "      <td>₹1,889</td>\n",
       "      <td>₹3,999</td>\n",
       "    </tr>\n",
       "    <tr>\n",
       "      <th>551569</th>\n",
       "      <td>Amazon Brand - Symactive Men's Activewear Gym ...</td>\n",
       "      <td>sports &amp; fitness</td>\n",
       "      <td>Yoga</td>\n",
       "      <td>NaN</td>\n",
       "      <td>NaN</td>\n",
       "      <td>₹699</td>\n",
       "      <td>₹2,199</td>\n",
       "    </tr>\n",
       "    <tr>\n",
       "      <th>551574</th>\n",
       "      <td>Just rider Arm Sleeves UV Protection for Drivi...</td>\n",
       "      <td>sports &amp; fitness</td>\n",
       "      <td>Yoga</td>\n",
       "      <td>NaN</td>\n",
       "      <td>NaN</td>\n",
       "      <td>₹219</td>\n",
       "      <td>₹699</td>\n",
       "    </tr>\n",
       "    <tr>\n",
       "      <th>551577</th>\n",
       "      <td>Obsessions Reversible Printed Yoga Mat,Anti-Sl...</td>\n",
       "      <td>sports &amp; fitness</td>\n",
       "      <td>Yoga</td>\n",
       "      <td>NaN</td>\n",
       "      <td>NaN</td>\n",
       "      <td>₹1,320</td>\n",
       "      <td>₹1,650</td>\n",
       "    </tr>\n",
       "    <tr>\n",
       "      <th>551578</th>\n",
       "      <td>Puma Women Sweatshirt</td>\n",
       "      <td>sports &amp; fitness</td>\n",
       "      <td>Yoga</td>\n",
       "      <td>NaN</td>\n",
       "      <td>NaN</td>\n",
       "      <td>₹1,439</td>\n",
       "      <td>₹2,999</td>\n",
       "    </tr>\n",
       "  </tbody>\n",
       "</table>\n",
       "<p>164742 rows × 7 columns</p>\n",
       "</div>"
      ],
      "text/plain": [
       "                                                     name     main_category  \\\n",
       "24      Lloyd 1.5 Ton 3 Star Fixed Speed Window Ac (Co...        appliances   \n",
       "50      Samsung 1 Ton 5 Star Inverter Split AC (Copper...        appliances   \n",
       "57      Haier 1.5 Ton 3 Star Frost Self Clean Inverter...        appliances   \n",
       "69      Lloyd 2.0 Ton 3 Star Inverter Split Ac (5 In 1...        appliances   \n",
       "73      Voltas 1.5 Ton 3 Star, Fixed Speed Window AC (...        appliances   \n",
       "...                                                   ...               ...   \n",
       "551543                              Puma Women Sweatshirt  sports & fitness   \n",
       "551569  Amazon Brand - Symactive Men's Activewear Gym ...  sports & fitness   \n",
       "551574  Just rider Arm Sleeves UV Protection for Drivi...  sports & fitness   \n",
       "551577  Obsessions Reversible Printed Yoga Mat,Anti-Sl...  sports & fitness   \n",
       "551578                              Puma Women Sweatshirt  sports & fitness   \n",
       "\n",
       "            sub_category ratings no_of_ratings discount_price actual_price  \n",
       "24      Air Conditioners     NaN           NaN        ₹27,440      ₹47,990  \n",
       "50      Air Conditioners     NaN           NaN        ₹36,999      ₹57,990  \n",
       "57      Air Conditioners     NaN           NaN        ₹32,990      ₹64,000  \n",
       "69      Air Conditioners     NaN           NaN        ₹46,000      ₹77,990  \n",
       "73      Air Conditioners     NaN           NaN        ₹29,990      ₹42,990  \n",
       "...                  ...     ...           ...            ...          ...  \n",
       "551543              Yoga     NaN           NaN         ₹1,889       ₹3,999  \n",
       "551569              Yoga     NaN           NaN           ₹699       ₹2,199  \n",
       "551574              Yoga     NaN           NaN           ₹219         ₹699  \n",
       "551577              Yoga     NaN           NaN         ₹1,320       ₹1,650  \n",
       "551578              Yoga     NaN           NaN         ₹1,439       ₹2,999  \n",
       "\n",
       "[164742 rows x 7 columns]"
      ]
     },
     "execution_count": 82,
     "metadata": {},
     "output_type": "execute_result"
    }
   ],
   "source": [
    "#Rows where ratings and no_of_ratings both values are missing\n",
    "amazon[amazon.ratings.isnull() & amazon.no_of_ratings.isnull()]"
   ]
  },
  {
   "cell_type": "code",
   "execution_count": 83,
   "id": "78189c54",
   "metadata": {},
   "outputs": [],
   "source": [
    "#There are lot of rows with NaN so we shall not drop these, intead Replacing null values in \"ratings\" and \"no_of_ratings\" with 0\n",
    "\n",
    "amazon.ratings.fillna(0, inplace=True)\n",
    "amazon.no_of_ratings.fillna(0, inplace=True)"
   ]
  },
  {
   "cell_type": "code",
   "execution_count": 84,
   "id": "ca4fe152",
   "metadata": {},
   "outputs": [
    {
     "data": {
      "text/plain": [
       "name              0\n",
       "main_category     0\n",
       "sub_category      0\n",
       "ratings           0\n",
       "no_of_ratings     0\n",
       "discount_price    0\n",
       "actual_price      0\n",
       "dtype: int64"
      ]
     },
     "execution_count": 84,
     "metadata": {},
     "output_type": "execute_result"
    }
   ],
   "source": [
    "amazon.isnull().sum()"
   ]
  },
  {
   "cell_type": "markdown",
   "id": "6fb8ee4b",
   "metadata": {},
   "source": [
    "There are no missing values now!"
   ]
  },
  {
   "cell_type": "markdown",
   "id": "88d273fb",
   "metadata": {},
   "source": [
    "### Checking Duplicates"
   ]
  },
  {
   "cell_type": "code",
   "execution_count": 85,
   "id": "3ceecf14",
   "metadata": {},
   "outputs": [
    {
     "data": {
      "text/plain": [
       "32355"
      ]
     },
     "execution_count": 85,
     "metadata": {},
     "output_type": "execute_result"
    }
   ],
   "source": [
    "#Checking for Duplicates\n",
    "amazon.duplicated().sum()"
   ]
  },
  {
   "cell_type": "code",
   "execution_count": 126,
   "id": "15e38cc5",
   "metadata": {},
   "outputs": [
    {
     "data": {
      "text/html": [
       "<div>\n",
       "<style scoped>\n",
       "    .dataframe tbody tr th:only-of-type {\n",
       "        vertical-align: middle;\n",
       "    }\n",
       "\n",
       "    .dataframe tbody tr th {\n",
       "        vertical-align: top;\n",
       "    }\n",
       "\n",
       "    .dataframe thead th {\n",
       "        text-align: right;\n",
       "    }\n",
       "</style>\n",
       "<table border=\"1\" class=\"dataframe\">\n",
       "  <thead>\n",
       "    <tr style=\"text-align: right;\">\n",
       "      <th></th>\n",
       "      <th>name</th>\n",
       "      <th>main_category</th>\n",
       "      <th>sub_category</th>\n",
       "      <th>ratings</th>\n",
       "      <th>no_of_ratings</th>\n",
       "      <th>discount_price</th>\n",
       "      <th>actual_price</th>\n",
       "      <th>Discount</th>\n",
       "      <th>Discount_Percentage(%)</th>\n",
       "      <th>Manufacture</th>\n",
       "    </tr>\n",
       "  </thead>\n",
       "  <tbody>\n",
       "    <tr>\n",
       "      <th>3281</th>\n",
       "      <td>Portable Mini Air Conditioner Small Size 500Ml...</td>\n",
       "      <td>appliances</td>\n",
       "      <td>All Appliances</td>\n",
       "      <td>0.0</td>\n",
       "      <td>0.0</td>\n",
       "      <td>1499.0</td>\n",
       "      <td>2599.0</td>\n",
       "      <td>1100.0</td>\n",
       "      <td>42.32</td>\n",
       "      <td>Portable</td>\n",
       "    </tr>\n",
       "    <tr>\n",
       "      <th>3476</th>\n",
       "      <td>Geek Aire CF1SL Rechargeable 13” Inch Portable...</td>\n",
       "      <td>appliances</td>\n",
       "      <td>All Appliances</td>\n",
       "      <td>0.0</td>\n",
       "      <td>0.0</td>\n",
       "      <td>6999.0</td>\n",
       "      <td>9099.0</td>\n",
       "      <td>2100.0</td>\n",
       "      <td>23.08</td>\n",
       "      <td>Geek</td>\n",
       "    </tr>\n",
       "    <tr>\n",
       "      <th>5089</th>\n",
       "      <td>REXERA Personal Air Conditioner Arctic Air Con...</td>\n",
       "      <td>appliances</td>\n",
       "      <td>All Appliances</td>\n",
       "      <td>0.0</td>\n",
       "      <td>0.0</td>\n",
       "      <td>1499.0</td>\n",
       "      <td>2500.0</td>\n",
       "      <td>1001.0</td>\n",
       "      <td>40.04</td>\n",
       "      <td>REXERA</td>\n",
       "    </tr>\n",
       "    <tr>\n",
       "      <th>6848</th>\n",
       "      <td>Crompton Instaserve 1200 W Induction Cooktop w...</td>\n",
       "      <td>appliances</td>\n",
       "      <td>All Appliances</td>\n",
       "      <td>0.0</td>\n",
       "      <td>0.0</td>\n",
       "      <td>2219.0</td>\n",
       "      <td>3200.0</td>\n",
       "      <td>981.0</td>\n",
       "      <td>30.66</td>\n",
       "      <td>Crompton</td>\n",
       "    </tr>\n",
       "    <tr>\n",
       "      <th>7025</th>\n",
       "      <td>Luminous UPS Sine Eco Volt Neo 1250 Inverter f...</td>\n",
       "      <td>appliances</td>\n",
       "      <td>All Appliances</td>\n",
       "      <td>0.0</td>\n",
       "      <td>0.0</td>\n",
       "      <td>7195.0</td>\n",
       "      <td>9750.0</td>\n",
       "      <td>2555.0</td>\n",
       "      <td>26.21</td>\n",
       "      <td>Luminous</td>\n",
       "    </tr>\n",
       "    <tr>\n",
       "      <th>...</th>\n",
       "      <td>...</td>\n",
       "      <td>...</td>\n",
       "      <td>...</td>\n",
       "      <td>...</td>\n",
       "      <td>...</td>\n",
       "      <td>...</td>\n",
       "      <td>...</td>\n",
       "      <td>...</td>\n",
       "      <td>...</td>\n",
       "      <td>...</td>\n",
       "    </tr>\n",
       "    <tr>\n",
       "      <th>528707</th>\n",
       "      <td>VORGETA Analog Stainless Steel Strap with Dial...</td>\n",
       "      <td>accessories</td>\n",
       "      <td>Watches</td>\n",
       "      <td>0.0</td>\n",
       "      <td>0.0</td>\n",
       "      <td>249.0</td>\n",
       "      <td>599.0</td>\n",
       "      <td>350.0</td>\n",
       "      <td>58.43</td>\n",
       "      <td>VORGETA</td>\n",
       "    </tr>\n",
       "    <tr>\n",
       "      <th>549179</th>\n",
       "      <td>IndiWeaves® Girls Super Soft Regular Fit Cotto...</td>\n",
       "      <td>stores</td>\n",
       "      <td>Women's Fashion</td>\n",
       "      <td>0.0</td>\n",
       "      <td>0.0</td>\n",
       "      <td>1044.0</td>\n",
       "      <td>1699.0</td>\n",
       "      <td>655.0</td>\n",
       "      <td>38.55</td>\n",
       "      <td>IndiWeaves®</td>\n",
       "    </tr>\n",
       "    <tr>\n",
       "      <th>549459</th>\n",
       "      <td>IndiWeaves® Girls Super Soft Regular Fit Cotto...</td>\n",
       "      <td>stores</td>\n",
       "      <td>Women's Fashion</td>\n",
       "      <td>0.0</td>\n",
       "      <td>0.0</td>\n",
       "      <td>1044.0</td>\n",
       "      <td>1599.0</td>\n",
       "      <td>555.0</td>\n",
       "      <td>34.71</td>\n",
       "      <td>IndiWeaves®</td>\n",
       "    </tr>\n",
       "    <tr>\n",
       "      <th>549481</th>\n",
       "      <td>IndiWeaves® Girls Super Soft Regular Fit Cotto...</td>\n",
       "      <td>stores</td>\n",
       "      <td>Women's Fashion</td>\n",
       "      <td>0.0</td>\n",
       "      <td>0.0</td>\n",
       "      <td>934.0</td>\n",
       "      <td>1499.0</td>\n",
       "      <td>565.0</td>\n",
       "      <td>37.69</td>\n",
       "      <td>IndiWeaves®</td>\n",
       "    </tr>\n",
       "    <tr>\n",
       "      <th>549561</th>\n",
       "      <td>IndiWeaves® Girls Super Soft Regular Fit Cotto...</td>\n",
       "      <td>stores</td>\n",
       "      <td>Women's Fashion</td>\n",
       "      <td>0.0</td>\n",
       "      <td>0.0</td>\n",
       "      <td>1044.0</td>\n",
       "      <td>1599.0</td>\n",
       "      <td>555.0</td>\n",
       "      <td>34.71</td>\n",
       "      <td>IndiWeaves®</td>\n",
       "    </tr>\n",
       "  </tbody>\n",
       "</table>\n",
       "<p>177 rows × 10 columns</p>\n",
       "</div>"
      ],
      "text/plain": [
       "                                                     name main_category  \\\n",
       "3281    Portable Mini Air Conditioner Small Size 500Ml...    appliances   \n",
       "3476    Geek Aire CF1SL Rechargeable 13” Inch Portable...    appliances   \n",
       "5089    REXERA Personal Air Conditioner Arctic Air Con...    appliances   \n",
       "6848    Crompton Instaserve 1200 W Induction Cooktop w...    appliances   \n",
       "7025    Luminous UPS Sine Eco Volt Neo 1250 Inverter f...    appliances   \n",
       "...                                                   ...           ...   \n",
       "528707  VORGETA Analog Stainless Steel Strap with Dial...   accessories   \n",
       "549179  IndiWeaves® Girls Super Soft Regular Fit Cotto...        stores   \n",
       "549459  IndiWeaves® Girls Super Soft Regular Fit Cotto...        stores   \n",
       "549481  IndiWeaves® Girls Super Soft Regular Fit Cotto...        stores   \n",
       "549561  IndiWeaves® Girls Super Soft Regular Fit Cotto...        stores   \n",
       "\n",
       "           sub_category  ratings  no_of_ratings  discount_price  actual_price  \\\n",
       "3281     All Appliances      0.0            0.0          1499.0        2599.0   \n",
       "3476     All Appliances      0.0            0.0          6999.0        9099.0   \n",
       "5089     All Appliances      0.0            0.0          1499.0        2500.0   \n",
       "6848     All Appliances      0.0            0.0          2219.0        3200.0   \n",
       "7025     All Appliances      0.0            0.0          7195.0        9750.0   \n",
       "...                 ...      ...            ...             ...           ...   \n",
       "528707          Watches      0.0            0.0           249.0         599.0   \n",
       "549179  Women's Fashion      0.0            0.0          1044.0        1699.0   \n",
       "549459  Women's Fashion      0.0            0.0          1044.0        1599.0   \n",
       "549481  Women's Fashion      0.0            0.0           934.0        1499.0   \n",
       "549561  Women's Fashion      0.0            0.0          1044.0        1599.0   \n",
       "\n",
       "        Discount  Discount_Percentage(%)  Manufacture  \n",
       "3281      1100.0                   42.32     Portable  \n",
       "3476      2100.0                   23.08         Geek  \n",
       "5089      1001.0                   40.04       REXERA  \n",
       "6848       981.0                   30.66     Crompton  \n",
       "7025      2555.0                   26.21     Luminous  \n",
       "...          ...                     ...          ...  \n",
       "528707     350.0                   58.43      VORGETA  \n",
       "549179     655.0                   38.55  IndiWeaves®  \n",
       "549459     555.0                   34.71  IndiWeaves®  \n",
       "549481     565.0                   37.69  IndiWeaves®  \n",
       "549561     555.0                   34.71  IndiWeaves®  \n",
       "\n",
       "[177 rows x 10 columns]"
      ]
     },
     "execution_count": 126,
     "metadata": {},
     "output_type": "execute_result"
    }
   ],
   "source": [
    "amazon[amazon.duplicated()]"
   ]
  },
  {
   "cell_type": "code",
   "execution_count": 87,
   "id": "bf515267",
   "metadata": {},
   "outputs": [],
   "source": [
    "#dropping duplicates\n",
    "\n",
    "amazon.drop_duplicates(inplace=True)"
   ]
  },
  {
   "cell_type": "code",
   "execution_count": 88,
   "id": "b3ddcfb0",
   "metadata": {},
   "outputs": [
    {
     "data": {
      "text/plain": [
       "(501417, 7)"
      ]
     },
     "execution_count": 88,
     "metadata": {},
     "output_type": "execute_result"
    }
   ],
   "source": [
    "amazon.shape"
   ]
  },
  {
   "cell_type": "markdown",
   "id": "d47b1290",
   "metadata": {},
   "source": [
    "### Cleaning data in columns \"no_of_ratings\", \"discount_price\"\tand \"actual_price\" by removing \",\" and \"₹\" sign and non-numeric values"
   ]
  },
  {
   "cell_type": "code",
   "execution_count": 89,
   "id": "541d1b55",
   "metadata": {},
   "outputs": [],
   "source": [
    "amazon.replace([\",\",\"₹\"],\"\", regex= True, inplace= True)"
   ]
  },
  {
   "cell_type": "code",
   "execution_count": 90,
   "id": "31a93099",
   "metadata": {},
   "outputs": [
    {
     "data": {
      "text/html": [
       "<div>\n",
       "<style scoped>\n",
       "    .dataframe tbody tr th:only-of-type {\n",
       "        vertical-align: middle;\n",
       "    }\n",
       "\n",
       "    .dataframe tbody tr th {\n",
       "        vertical-align: top;\n",
       "    }\n",
       "\n",
       "    .dataframe thead th {\n",
       "        text-align: right;\n",
       "    }\n",
       "</style>\n",
       "<table border=\"1\" class=\"dataframe\">\n",
       "  <thead>\n",
       "    <tr style=\"text-align: right;\">\n",
       "      <th></th>\n",
       "      <th>name</th>\n",
       "      <th>main_category</th>\n",
       "      <th>sub_category</th>\n",
       "      <th>ratings</th>\n",
       "      <th>no_of_ratings</th>\n",
       "      <th>discount_price</th>\n",
       "      <th>actual_price</th>\n",
       "    </tr>\n",
       "  </thead>\n",
       "  <tbody>\n",
       "    <tr>\n",
       "      <th>0</th>\n",
       "      <td>Lloyd 1.5 Ton 3 Star Inverter Split Ac (5 In 1...</td>\n",
       "      <td>appliances</td>\n",
       "      <td>Air Conditioners</td>\n",
       "      <td>4.2</td>\n",
       "      <td>2255</td>\n",
       "      <td>32999</td>\n",
       "      <td>58990</td>\n",
       "    </tr>\n",
       "    <tr>\n",
       "      <th>1</th>\n",
       "      <td>LG 1.5 Ton 5 Star AI DUAL Inverter Split AC (C...</td>\n",
       "      <td>appliances</td>\n",
       "      <td>Air Conditioners</td>\n",
       "      <td>4.2</td>\n",
       "      <td>2948</td>\n",
       "      <td>46490</td>\n",
       "      <td>75990</td>\n",
       "    </tr>\n",
       "  </tbody>\n",
       "</table>\n",
       "</div>"
      ],
      "text/plain": [
       "                                                name main_category  \\\n",
       "0  Lloyd 1.5 Ton 3 Star Inverter Split Ac (5 In 1...    appliances   \n",
       "1  LG 1.5 Ton 5 Star AI DUAL Inverter Split AC (C...    appliances   \n",
       "\n",
       "       sub_category ratings no_of_ratings discount_price actual_price  \n",
       "0  Air Conditioners     4.2          2255          32999        58990  \n",
       "1  Air Conditioners     4.2          2948          46490        75990  "
      ]
     },
     "execution_count": 90,
     "metadata": {},
     "output_type": "execute_result"
    }
   ],
   "source": [
    "amazon.head(2)"
   ]
  },
  {
   "cell_type": "markdown",
   "id": "6f42d742",
   "metadata": {},
   "source": [
    "There are some string data in \"ratings\" and \"no_of_ratings\" columns, lets also replace these values"
   ]
  },
  {
   "cell_type": "code",
   "execution_count": 91,
   "id": "11170879",
   "metadata": {},
   "outputs": [
    {
     "data": {
      "text/plain": [
       "array(['4.2', '4.0', '4.1', '4.3', '3.9', '3.8', '3.5', 0, '4.6', '3.3',\n",
       "       '3.4', '3.7', '2.9', '5.0', '4.4', '3.6', '2.7', '4.5', '3.0',\n",
       "       '3.1', '3.2', '4.8', '4.7', '2.5', '1.0', '2.6', '2.8', '1.7',\n",
       "       'Get', '1.8', '2.4', '4.9', '2.2', '1.6', '1.9', '2.3', '2.0',\n",
       "       '1.4', '2.1', 'FREE', '1.2', '1.3', '1.5', '68.99', '65', '1.1',\n",
       "       '70', '100', '99', '2.99'], dtype=object)"
      ]
     },
     "execution_count": 91,
     "metadata": {},
     "output_type": "execute_result"
    }
   ],
   "source": [
    "amazon.ratings.unique()"
   ]
  },
  {
   "cell_type": "markdown",
   "id": "f197ce8b",
   "metadata": {},
   "source": [
    "There are two string values \"FREE\" and \"Get\" and values that does not fall between 0-5.\n",
    "\n",
    "We shall replace \"Get\" and \"FREE\" with \"0\" and drop values which are not between 0-5."
   ]
  },
  {
   "cell_type": "code",
   "execution_count": 92,
   "id": "5038579d",
   "metadata": {},
   "outputs": [],
   "source": [
    "#replacing 'Get' and 'FREE' value to \"0\"\n",
    "amazon[\"ratings\"].replace([\"Get\",\"FREE\"],\"0\",inplace= True)"
   ]
  },
  {
   "cell_type": "code",
   "execution_count": 93,
   "id": "5aa51221",
   "metadata": {},
   "outputs": [],
   "source": [
    "#Dropping rows having value 2.99\n",
    "index2 = amazon[amazon.ratings == '2.99' ].index\n",
    "amazon.drop(index2,axis=0, inplace = True)"
   ]
  },
  {
   "cell_type": "code",
   "execution_count": 94,
   "id": "ff7d2744",
   "metadata": {},
   "outputs": [],
   "source": [
    "#Similarly dropping all the ambiguous ratings rows \n",
    "amazon.drop((amazon[amazon.ratings == '68.99' ].index), axis=0, inplace = True)\n",
    "amazon.drop((amazon[amazon.ratings == '65' ].index), axis=0, inplace = True)\n",
    "amazon.drop((amazon[amazon.ratings == '70' ].index), axis=0, inplace = True)\n",
    "amazon.drop((amazon[amazon.ratings == '100' ].index), axis=0, inplace = True)\n",
    "amazon.drop((amazon[amazon.ratings == '99' ].index), axis=0, inplace = True)"
   ]
  },
  {
   "cell_type": "code",
   "execution_count": 95,
   "id": "88657df8",
   "metadata": {},
   "outputs": [
    {
     "data": {
      "text/plain": [
       "array(['4.2', '4.0', '4.1', '4.3', '3.9', '3.8', '3.5', 0, '4.6', '3.3',\n",
       "       '3.4', '3.7', '2.9', '5.0', '4.4', '3.6', '2.7', '4.5', '3.0',\n",
       "       '3.1', '3.2', '4.8', '4.7', '2.5', '1.0', '2.6', '2.8', '1.7', '0',\n",
       "       '1.8', '2.4', '4.9', '2.2', '1.6', '1.9', '2.3', '2.0', '1.4',\n",
       "       '2.1', '1.2', '1.3', '1.5', '1.1'], dtype=object)"
      ]
     },
     "execution_count": 95,
     "metadata": {},
     "output_type": "execute_result"
    }
   ],
   "source": [
    "amazon.ratings.unique()"
   ]
  },
  {
   "cell_type": "markdown",
   "id": "985494e6",
   "metadata": {},
   "source": [
    "Discrepancies in \"ratings\" column has now been resolved !"
   ]
  },
  {
   "cell_type": "code",
   "execution_count": 96,
   "id": "b7a99531",
   "metadata": {},
   "outputs": [
    {
     "data": {
      "text/plain": [
       "array(['2255', '2948', '1206', ..., '3329', '7141', '4406'], dtype=object)"
      ]
     },
     "execution_count": 96,
     "metadata": {},
     "output_type": "execute_result"
    }
   ],
   "source": [
    "amazon.no_of_ratings.unique()"
   ]
  },
  {
   "cell_type": "code",
   "execution_count": 97,
   "id": "286ea28d",
   "metadata": {},
   "outputs": [],
   "source": [
    "#replacing string values in \"no_of_ratings\" to \"0\"\n",
    "amazon[\"no_of_ratings\"].replace([\"Only 2 left in stock.\",'Only 1 left in stock.','FREE Delivery by Amazon', \n",
    "                                 'Usually dispatched in 2 to 3 days.','Usually dispatched in 5 to 6 days.', \n",
    "                                 'Usually dispatched in 4 to 5 days.','Usually dispatched in 6 to 7 days.',\n",
    "                                 'Usually dispatched in 7 to 8 days.','Only 3 left in stock.','Usually dispatched in 3 to 4 weeks.',\n",
    "                                 'Usually dispatched in 4 to 5 weeks.','Only 5 left in stock.','Only 4 left in stock.',\n",
    "                                 'Usually dispatched in 3 to 5 days.','Usually dispatched in 11 to 12 days.',\n",
    "                                 'Usually dispatched in 9 to 10 days.','Usually dispatched in 2 to 3 weeks.',\n",
    "                                 'Usually dispatched in 8 to 9 days.','Usually dispatched in 1 to 2 months.',\n",
    "                                 'This item will be released on August 14 2023.']\n",
    "                                 , \"0\",inplace= True)"
   ]
  },
  {
   "cell_type": "markdown",
   "id": "59365717",
   "metadata": {},
   "source": [
    "Discrepancies in \"no_of_ratings\" column has been resolved !"
   ]
  },
  {
   "cell_type": "markdown",
   "id": "9a2c0ece",
   "metadata": {},
   "source": [
    "### Changing datatypes for columns \"ratings\", \"no_of_ratings\", \"discount_price\" and \"actual_price\""
   ]
  },
  {
   "cell_type": "code",
   "execution_count": 98,
   "id": "c1950c8c",
   "metadata": {},
   "outputs": [],
   "source": [
    "amazon[[\"ratings\",\"no_of_ratings\",\"discount_price\",\"actual_price\"]] = amazon[\n",
    "    [\"ratings\",\"no_of_ratings\",\"discount_price\",\"actual_price\"]].astype('float')"
   ]
  },
  {
   "cell_type": "code",
   "execution_count": 99,
   "id": "61c79c79",
   "metadata": {},
   "outputs": [
    {
     "name": "stdout",
     "output_type": "stream",
     "text": [
      "<class 'pandas.core.frame.DataFrame'>\n",
      "Int64Index: 501393 entries, 0 to 551584\n",
      "Data columns (total 7 columns):\n",
      " #   Column          Non-Null Count   Dtype  \n",
      "---  ------          --------------   -----  \n",
      " 0   name            501393 non-null  object \n",
      " 1   main_category   501393 non-null  object \n",
      " 2   sub_category    501393 non-null  object \n",
      " 3   ratings         501393 non-null  float64\n",
      " 4   no_of_ratings   501393 non-null  float64\n",
      " 5   discount_price  501393 non-null  float64\n",
      " 6   actual_price    501393 non-null  float64\n",
      "dtypes: float64(4), object(3)\n",
      "memory usage: 30.6+ MB\n"
     ]
    }
   ],
   "source": [
    "amazon.info()"
   ]
  },
  {
   "cell_type": "code",
   "execution_count": 100,
   "id": "29091964",
   "metadata": {},
   "outputs": [
    {
     "data": {
      "text/html": [
       "<div>\n",
       "<style scoped>\n",
       "    .dataframe tbody tr th:only-of-type {\n",
       "        vertical-align: middle;\n",
       "    }\n",
       "\n",
       "    .dataframe tbody tr th {\n",
       "        vertical-align: top;\n",
       "    }\n",
       "\n",
       "    .dataframe thead th {\n",
       "        text-align: right;\n",
       "    }\n",
       "</style>\n",
       "<table border=\"1\" class=\"dataframe\">\n",
       "  <thead>\n",
       "    <tr style=\"text-align: right;\">\n",
       "      <th></th>\n",
       "      <th>name</th>\n",
       "      <th>main_category</th>\n",
       "      <th>sub_category</th>\n",
       "      <th>ratings</th>\n",
       "      <th>no_of_ratings</th>\n",
       "      <th>discount_price</th>\n",
       "      <th>actual_price</th>\n",
       "    </tr>\n",
       "  </thead>\n",
       "  <tbody>\n",
       "    <tr>\n",
       "      <th>0</th>\n",
       "      <td>Lloyd 1.5 Ton 3 Star Inverter Split Ac (5 In 1...</td>\n",
       "      <td>appliances</td>\n",
       "      <td>Air Conditioners</td>\n",
       "      <td>4.2</td>\n",
       "      <td>2255.0</td>\n",
       "      <td>32999.0</td>\n",
       "      <td>58990.0</td>\n",
       "    </tr>\n",
       "    <tr>\n",
       "      <th>1</th>\n",
       "      <td>LG 1.5 Ton 5 Star AI DUAL Inverter Split AC (C...</td>\n",
       "      <td>appliances</td>\n",
       "      <td>Air Conditioners</td>\n",
       "      <td>4.2</td>\n",
       "      <td>2948.0</td>\n",
       "      <td>46490.0</td>\n",
       "      <td>75990.0</td>\n",
       "    </tr>\n",
       "    <tr>\n",
       "      <th>2</th>\n",
       "      <td>LG 1 Ton 4 Star Ai Dual Inverter Split Ac (Cop...</td>\n",
       "      <td>appliances</td>\n",
       "      <td>Air Conditioners</td>\n",
       "      <td>4.2</td>\n",
       "      <td>1206.0</td>\n",
       "      <td>34490.0</td>\n",
       "      <td>61990.0</td>\n",
       "    </tr>\n",
       "    <tr>\n",
       "      <th>3</th>\n",
       "      <td>LG 1.5 Ton 3 Star AI DUAL Inverter Split AC (C...</td>\n",
       "      <td>appliances</td>\n",
       "      <td>Air Conditioners</td>\n",
       "      <td>4.0</td>\n",
       "      <td>69.0</td>\n",
       "      <td>37990.0</td>\n",
       "      <td>68990.0</td>\n",
       "    </tr>\n",
       "    <tr>\n",
       "      <th>4</th>\n",
       "      <td>Carrier 1.5 Ton 3 Star Inverter Split AC (Copp...</td>\n",
       "      <td>appliances</td>\n",
       "      <td>Air Conditioners</td>\n",
       "      <td>4.1</td>\n",
       "      <td>630.0</td>\n",
       "      <td>34490.0</td>\n",
       "      <td>67790.0</td>\n",
       "    </tr>\n",
       "  </tbody>\n",
       "</table>\n",
       "</div>"
      ],
      "text/plain": [
       "                                                name main_category  \\\n",
       "0  Lloyd 1.5 Ton 3 Star Inverter Split Ac (5 In 1...    appliances   \n",
       "1  LG 1.5 Ton 5 Star AI DUAL Inverter Split AC (C...    appliances   \n",
       "2  LG 1 Ton 4 Star Ai Dual Inverter Split Ac (Cop...    appliances   \n",
       "3  LG 1.5 Ton 3 Star AI DUAL Inverter Split AC (C...    appliances   \n",
       "4  Carrier 1.5 Ton 3 Star Inverter Split AC (Copp...    appliances   \n",
       "\n",
       "       sub_category  ratings  no_of_ratings  discount_price  actual_price  \n",
       "0  Air Conditioners      4.2         2255.0         32999.0       58990.0  \n",
       "1  Air Conditioners      4.2         2948.0         46490.0       75990.0  \n",
       "2  Air Conditioners      4.2         1206.0         34490.0       61990.0  \n",
       "3  Air Conditioners      4.0           69.0         37990.0       68990.0  \n",
       "4  Air Conditioners      4.1          630.0         34490.0       67790.0  "
      ]
     },
     "execution_count": 100,
     "metadata": {},
     "output_type": "execute_result"
    }
   ],
   "source": [
    "amazon.head()"
   ]
  },
  {
   "cell_type": "markdown",
   "id": "3f47ef15",
   "metadata": {},
   "source": [
    "#### Our dataset is now clean and ready for further analysis !!"
   ]
  },
  {
   "cell_type": "markdown",
   "id": "bdab6572",
   "metadata": {},
   "source": [
    "### Creating Discount and Discount_percentage column"
   ]
  },
  {
   "cell_type": "code",
   "execution_count": 101,
   "id": "4f310c97",
   "metadata": {},
   "outputs": [],
   "source": [
    "#Creating column for Discount amount\n",
    "\n",
    "amazon[\"Discount\"] = amazon[\"actual_price\"] - amazon[\"discount_price\"]"
   ]
  },
  {
   "cell_type": "code",
   "execution_count": 102,
   "id": "daba6bef",
   "metadata": {},
   "outputs": [],
   "source": [
    "#Creating column for Discount Percentage\n",
    "\n",
    "amazon[\"Discount_Percentage(%)\"] = round((amazon[\"Discount\"]/amazon[\"actual_price\"])*100,2)"
   ]
  },
  {
   "cell_type": "code",
   "execution_count": 103,
   "id": "daac375d",
   "metadata": {},
   "outputs": [
    {
     "data": {
      "text/html": [
       "<div>\n",
       "<style scoped>\n",
       "    .dataframe tbody tr th:only-of-type {\n",
       "        vertical-align: middle;\n",
       "    }\n",
       "\n",
       "    .dataframe tbody tr th {\n",
       "        vertical-align: top;\n",
       "    }\n",
       "\n",
       "    .dataframe thead th {\n",
       "        text-align: right;\n",
       "    }\n",
       "</style>\n",
       "<table border=\"1\" class=\"dataframe\">\n",
       "  <thead>\n",
       "    <tr style=\"text-align: right;\">\n",
       "      <th></th>\n",
       "      <th>name</th>\n",
       "      <th>main_category</th>\n",
       "      <th>sub_category</th>\n",
       "      <th>ratings</th>\n",
       "      <th>no_of_ratings</th>\n",
       "      <th>discount_price</th>\n",
       "      <th>actual_price</th>\n",
       "      <th>Discount</th>\n",
       "      <th>Discount_Percentage(%)</th>\n",
       "    </tr>\n",
       "  </thead>\n",
       "  <tbody>\n",
       "    <tr>\n",
       "      <th>407167</th>\n",
       "      <td>Second Vision® Hidden Mini Spy Camera with Aud...</td>\n",
       "      <td>tv audio &amp; cameras</td>\n",
       "      <td>Security Cameras</td>\n",
       "      <td>1.2</td>\n",
       "      <td>5.0</td>\n",
       "      <td>1999.0</td>\n",
       "      <td>3199.0</td>\n",
       "      <td>1200.0</td>\n",
       "      <td>37.51</td>\n",
       "    </tr>\n",
       "    <tr>\n",
       "      <th>331336</th>\n",
       "      <td>Kidsville Boy's Boxer Shorts (MC018_Multicolor...</td>\n",
       "      <td>kids' fashion</td>\n",
       "      <td>Kids' Clothing</td>\n",
       "      <td>4.0</td>\n",
       "      <td>1.0</td>\n",
       "      <td>398.0</td>\n",
       "      <td>1899.0</td>\n",
       "      <td>1501.0</td>\n",
       "      <td>79.04</td>\n",
       "    </tr>\n",
       "    <tr>\n",
       "      <th>6728</th>\n",
       "      <td>HAVAI ABS Plastic Cooler Fan Blade Clockwise (...</td>\n",
       "      <td>appliances</td>\n",
       "      <td>All Appliances</td>\n",
       "      <td>3.6</td>\n",
       "      <td>74.0</td>\n",
       "      <td>599.0</td>\n",
       "      <td>799.0</td>\n",
       "      <td>200.0</td>\n",
       "      <td>25.03</td>\n",
       "    </tr>\n",
       "    <tr>\n",
       "      <th>503754</th>\n",
       "      <td>FACE GUARD Leather Reusable Face Mask 4 Layer ...</td>\n",
       "      <td>bags &amp; luggage</td>\n",
       "      <td>Travel Accessories</td>\n",
       "      <td>3.8</td>\n",
       "      <td>86.0</td>\n",
       "      <td>219.0</td>\n",
       "      <td>499.0</td>\n",
       "      <td>280.0</td>\n",
       "      <td>56.11</td>\n",
       "    </tr>\n",
       "    <tr>\n",
       "      <th>281581</th>\n",
       "      <td>ldhsati Fashion Men's Cotton Thermal Set Fleec...</td>\n",
       "      <td>men's clothing</td>\n",
       "      <td>Innerwear</td>\n",
       "      <td>5.0</td>\n",
       "      <td>1.0</td>\n",
       "      <td>499.0</td>\n",
       "      <td>999.0</td>\n",
       "      <td>500.0</td>\n",
       "      <td>50.05</td>\n",
       "    </tr>\n",
       "  </tbody>\n",
       "</table>\n",
       "</div>"
      ],
      "text/plain": [
       "                                                     name       main_category  \\\n",
       "407167  Second Vision® Hidden Mini Spy Camera with Aud...  tv audio & cameras   \n",
       "331336  Kidsville Boy's Boxer Shorts (MC018_Multicolor...       kids' fashion   \n",
       "6728    HAVAI ABS Plastic Cooler Fan Blade Clockwise (...          appliances   \n",
       "503754  FACE GUARD Leather Reusable Face Mask 4 Layer ...      bags & luggage   \n",
       "281581  ldhsati Fashion Men's Cotton Thermal Set Fleec...      men's clothing   \n",
       "\n",
       "              sub_category  ratings  no_of_ratings  discount_price  \\\n",
       "407167    Security Cameras      1.2            5.0          1999.0   \n",
       "331336      Kids' Clothing      4.0            1.0           398.0   \n",
       "6728        All Appliances      3.6           74.0           599.0   \n",
       "503754  Travel Accessories      3.8           86.0           219.0   \n",
       "281581           Innerwear      5.0            1.0           499.0   \n",
       "\n",
       "        actual_price  Discount  Discount_Percentage(%)  \n",
       "407167        3199.0    1200.0                   37.51  \n",
       "331336        1899.0    1501.0                   79.04  \n",
       "6728           799.0     200.0                   25.03  \n",
       "503754         499.0     280.0                   56.11  \n",
       "281581         999.0     500.0                   50.05  "
      ]
     },
     "execution_count": 103,
     "metadata": {},
     "output_type": "execute_result"
    }
   ],
   "source": [
    "#Randomly checking 5 rows\n",
    "amazon.sample(5)"
   ]
  },
  {
   "cell_type": "markdown",
   "id": "c7b6de79",
   "metadata": {},
   "source": [
    "### Extracting Manufacturer name "
   ]
  },
  {
   "cell_type": "code",
   "execution_count": 104,
   "id": "a0794476",
   "metadata": {},
   "outputs": [],
   "source": [
    "amazon[\"Manufacture\"] = amazon.name.str.split(\" \").str[0]"
   ]
  },
  {
   "cell_type": "code",
   "execution_count": 105,
   "id": "8ce6da94",
   "metadata": {},
   "outputs": [
    {
     "data": {
      "text/html": [
       "<div>\n",
       "<style scoped>\n",
       "    .dataframe tbody tr th:only-of-type {\n",
       "        vertical-align: middle;\n",
       "    }\n",
       "\n",
       "    .dataframe tbody tr th {\n",
       "        vertical-align: top;\n",
       "    }\n",
       "\n",
       "    .dataframe thead th {\n",
       "        text-align: right;\n",
       "    }\n",
       "</style>\n",
       "<table border=\"1\" class=\"dataframe\">\n",
       "  <thead>\n",
       "    <tr style=\"text-align: right;\">\n",
       "      <th></th>\n",
       "      <th>name</th>\n",
       "      <th>main_category</th>\n",
       "      <th>sub_category</th>\n",
       "      <th>ratings</th>\n",
       "      <th>no_of_ratings</th>\n",
       "      <th>discount_price</th>\n",
       "      <th>actual_price</th>\n",
       "      <th>Discount</th>\n",
       "      <th>Discount_Percentage(%)</th>\n",
       "      <th>Manufacture</th>\n",
       "    </tr>\n",
       "  </thead>\n",
       "  <tbody>\n",
       "    <tr>\n",
       "      <th>0</th>\n",
       "      <td>Lloyd 1.5 Ton 3 Star Inverter Split Ac (5 In 1...</td>\n",
       "      <td>appliances</td>\n",
       "      <td>Air Conditioners</td>\n",
       "      <td>4.2</td>\n",
       "      <td>2255.0</td>\n",
       "      <td>32999.0</td>\n",
       "      <td>58990.0</td>\n",
       "      <td>25991.0</td>\n",
       "      <td>44.06</td>\n",
       "      <td>Lloyd</td>\n",
       "    </tr>\n",
       "    <tr>\n",
       "      <th>1</th>\n",
       "      <td>LG 1.5 Ton 5 Star AI DUAL Inverter Split AC (C...</td>\n",
       "      <td>appliances</td>\n",
       "      <td>Air Conditioners</td>\n",
       "      <td>4.2</td>\n",
       "      <td>2948.0</td>\n",
       "      <td>46490.0</td>\n",
       "      <td>75990.0</td>\n",
       "      <td>29500.0</td>\n",
       "      <td>38.82</td>\n",
       "      <td>LG</td>\n",
       "    </tr>\n",
       "    <tr>\n",
       "      <th>2</th>\n",
       "      <td>LG 1 Ton 4 Star Ai Dual Inverter Split Ac (Cop...</td>\n",
       "      <td>appliances</td>\n",
       "      <td>Air Conditioners</td>\n",
       "      <td>4.2</td>\n",
       "      <td>1206.0</td>\n",
       "      <td>34490.0</td>\n",
       "      <td>61990.0</td>\n",
       "      <td>27500.0</td>\n",
       "      <td>44.36</td>\n",
       "      <td>LG</td>\n",
       "    </tr>\n",
       "    <tr>\n",
       "      <th>3</th>\n",
       "      <td>LG 1.5 Ton 3 Star AI DUAL Inverter Split AC (C...</td>\n",
       "      <td>appliances</td>\n",
       "      <td>Air Conditioners</td>\n",
       "      <td>4.0</td>\n",
       "      <td>69.0</td>\n",
       "      <td>37990.0</td>\n",
       "      <td>68990.0</td>\n",
       "      <td>31000.0</td>\n",
       "      <td>44.93</td>\n",
       "      <td>LG</td>\n",
       "    </tr>\n",
       "    <tr>\n",
       "      <th>4</th>\n",
       "      <td>Carrier 1.5 Ton 3 Star Inverter Split AC (Copp...</td>\n",
       "      <td>appliances</td>\n",
       "      <td>Air Conditioners</td>\n",
       "      <td>4.1</td>\n",
       "      <td>630.0</td>\n",
       "      <td>34490.0</td>\n",
       "      <td>67790.0</td>\n",
       "      <td>33300.0</td>\n",
       "      <td>49.12</td>\n",
       "      <td>Carrier</td>\n",
       "    </tr>\n",
       "  </tbody>\n",
       "</table>\n",
       "</div>"
      ],
      "text/plain": [
       "                                                name main_category  \\\n",
       "0  Lloyd 1.5 Ton 3 Star Inverter Split Ac (5 In 1...    appliances   \n",
       "1  LG 1.5 Ton 5 Star AI DUAL Inverter Split AC (C...    appliances   \n",
       "2  LG 1 Ton 4 Star Ai Dual Inverter Split Ac (Cop...    appliances   \n",
       "3  LG 1.5 Ton 3 Star AI DUAL Inverter Split AC (C...    appliances   \n",
       "4  Carrier 1.5 Ton 3 Star Inverter Split AC (Copp...    appliances   \n",
       "\n",
       "       sub_category  ratings  no_of_ratings  discount_price  actual_price  \\\n",
       "0  Air Conditioners      4.2         2255.0         32999.0       58990.0   \n",
       "1  Air Conditioners      4.2         2948.0         46490.0       75990.0   \n",
       "2  Air Conditioners      4.2         1206.0         34490.0       61990.0   \n",
       "3  Air Conditioners      4.0           69.0         37990.0       68990.0   \n",
       "4  Air Conditioners      4.1          630.0         34490.0       67790.0   \n",
       "\n",
       "   Discount  Discount_Percentage(%) Manufacture  \n",
       "0   25991.0                   44.06       Lloyd  \n",
       "1   29500.0                   38.82          LG  \n",
       "2   27500.0                   44.36          LG  \n",
       "3   31000.0                   44.93          LG  \n",
       "4   33300.0                   49.12     Carrier  "
      ]
     },
     "execution_count": 105,
     "metadata": {},
     "output_type": "execute_result"
    }
   ],
   "source": [
    "amazon.head()"
   ]
  },
  {
   "cell_type": "markdown",
   "id": "d2ec243f",
   "metadata": {},
   "source": [
    "### EDA"
   ]
  },
  {
   "cell_type": "markdown",
   "id": "01bb1165",
   "metadata": {},
   "source": [
    "### Top 10 Manufacturers on Amazon"
   ]
  },
  {
   "cell_type": "code",
   "execution_count": 106,
   "id": "1c35531c",
   "metadata": {},
   "outputs": [
    {
     "data": {
      "text/plain": [
       "PC         5376\n",
       "Puma       4558\n",
       "Shopnet    4227\n",
       "Amazon     3474\n",
       "U.S.       2847\n",
       "The        2847\n",
       "Nike       2812\n",
       "NEUTRON    2762\n",
       "Men's      2591\n",
       "Van        2589\n",
       "Campus     2318\n",
       "Red        2292\n",
       "Jockey     2235\n",
       "Adidas     1895\n",
       "Avsar      1830\n",
       "Name: Manufacture, dtype: int64"
      ]
     },
     "execution_count": 106,
     "metadata": {},
     "output_type": "execute_result"
    }
   ],
   "source": [
    "amazon.Manufacture.value_counts(ascending=False).head(15) #top 15 manufacturers"
   ]
  },
  {
   "cell_type": "code",
   "execution_count": 107,
   "id": "f709621b",
   "metadata": {},
   "outputs": [
    {
     "data": {
      "image/png": "[encoded data removed]",
      "text/plain": [
       "<Figure size 800x400 with 1 Axes>"
      ]
     },
     "metadata": {},
     "output_type": "display_data"
    }
   ],
   "source": [
    "plt.figure(figsize=(8,4))\n",
    "(amazon.Manufacture.value_counts(ascending=False).head(10)).plot(kind=\"bar\", xlabel=\"Manufacturer\", ylabel=\"Total Products\", colormap = 'viridis')\n",
    "plt.title(\"\\n Top 10 Manufacturers \\n\")\n",
    "plt.show()"
   ]
  },
  {
   "cell_type": "markdown",
   "id": "a681ffe3",
   "metadata": {},
   "source": [
    "PC, Puma, Shopnet and Amazon are top manufacturers of Amazon website with more than 3000 different products !"
   ]
  },
  {
   "cell_type": "markdown",
   "id": "704115cc",
   "metadata": {},
   "source": [
    "### Top 10 Categories on Amazon"
   ]
  },
  {
   "cell_type": "code",
   "execution_count": 109,
   "id": "ae3dba3e",
   "metadata": {},
   "outputs": [
    {
     "data": {
      "text/plain": [
       "accessories             104902\n",
       "women's clothing         73805\n",
       "tv audio & cameras       64061\n",
       "men's clothing           62604\n",
       "men's shoes              51424\n",
       "appliances               30094\n",
       "stores                   28745\n",
       "home & kitchen           14138\n",
       "kids' fashion            12224\n",
       "sports & fitness         12139\n",
       "bags & luggage            9711\n",
       "beauty & health           9680\n",
       "car & motorbike           6968\n",
       "toys & baby products      5904\n",
       "women's shoes             5108\n",
       "Name: main_category, dtype: int64"
      ]
     },
     "execution_count": 109,
     "metadata": {},
     "output_type": "execute_result"
    }
   ],
   "source": [
    "amazon.main_category.value_counts(ascending=False).head(15) #top 15 products"
   ]
  },
  {
   "cell_type": "code",
   "execution_count": 110,
   "id": "1fd46d25",
   "metadata": {
    "scrolled": false
   },
   "outputs": [
    {
     "data": {
      "image/png": "[encoded data removed]",
      "text/plain": [
       "<Figure size 800x400 with 1 Axes>"
      ]
     },
     "metadata": {},
     "output_type": "display_data"
    }
   ],
   "source": [
    "plt.figure(figsize=(8,4))\n",
    "(amazon.main_category.value_counts(ascending=False).head(10)).plot(kind=\"bar\", xlabel=\"Main Category\",ylabel=\"Total Products\", colormap = 'viridis')\n",
    "plt.title(\"\\n Top 10 Product Categories \\n\")\n",
    "plt.show()"
   ]
  },
  {
   "cell_type": "markdown",
   "id": "2d7a424a",
   "metadata": {},
   "source": [
    "- There are more than 1,00,000 products under the Top category \"accessories\"\n",
    "- \"women's clothing\" is the second largest category with more than 70,000 products.\n",
    "- \"mens clothing\" and \"tv audio & cameras\" are also among the top cateories with more than 60,000 products."
   ]
  },
  {
   "cell_type": "markdown",
   "id": "40d6a2d3",
   "metadata": {},
   "source": [
    "### Top 10 Product Sub-Categories on Amazon"
   ]
  },
  {
   "cell_type": "code",
   "execution_count": 111,
   "id": "8defbe90",
   "metadata": {},
   "outputs": [
    {
     "data": {
      "text/plain": [
       "Jewellery                     18649\n",
       "Western Wear                  18576\n",
       "Clothing                      18479\n",
       "Ethnic Wear                   18393\n",
       "Lingerie & Nightwear          18357\n",
       "Fashion & Silver Jewellery    18242\n",
       "Handbags & Clutches           18068\n",
       "Sports Shoes                  18044\n",
       "Watches                       18043\n",
       "Bags & Luggage                17854\n",
       "Name: sub_category, dtype: int64"
      ]
     },
     "execution_count": 111,
     "metadata": {},
     "output_type": "execute_result"
    }
   ],
   "source": [
    "amazon.sub_category.value_counts(ascending=False).head(10)"
   ]
  },
  {
   "cell_type": "markdown",
   "id": "986973ae",
   "metadata": {},
   "source": [
    "Jewellery, Western Wear, Clothing and Ethnic Wear are top sub_categories with more than 18k products"
   ]
  },
  {
   "cell_type": "markdown",
   "id": "107e62fb",
   "metadata": {},
   "source": [
    "### Top Rated Brands"
   ]
  },
  {
   "cell_type": "code",
   "execution_count": 112,
   "id": "896e3673",
   "metadata": {},
   "outputs": [
    {
     "data": {
      "text/html": [
       "<div>\n",
       "<style scoped>\n",
       "    .dataframe tbody tr th:only-of-type {\n",
       "        vertical-align: middle;\n",
       "    }\n",
       "\n",
       "    .dataframe tbody tr th {\n",
       "        vertical-align: top;\n",
       "    }\n",
       "\n",
       "    .dataframe thead th {\n",
       "        text-align: right;\n",
       "    }\n",
       "</style>\n",
       "<table border=\"1\" class=\"dataframe\">\n",
       "  <thead>\n",
       "    <tr style=\"text-align: right;\">\n",
       "      <th></th>\n",
       "      <th>name</th>\n",
       "      <th>main_category</th>\n",
       "      <th>sub_category</th>\n",
       "      <th>ratings</th>\n",
       "      <th>no_of_ratings</th>\n",
       "      <th>discount_price</th>\n",
       "      <th>actual_price</th>\n",
       "      <th>Discount</th>\n",
       "      <th>Discount_Percentage(%)</th>\n",
       "      <th>Manufacture</th>\n",
       "    </tr>\n",
       "  </thead>\n",
       "  <tbody>\n",
       "    <tr>\n",
       "      <th>58</th>\n",
       "      <td>Hitachi Split Ac - 1.5 Ton Kiyora 5200Fx I Fre...</td>\n",
       "      <td>appliances</td>\n",
       "      <td>Air Conditioners</td>\n",
       "      <td>5.0</td>\n",
       "      <td>1.0</td>\n",
       "      <td>42240.0</td>\n",
       "      <td>71900.0</td>\n",
       "      <td>29660.0</td>\n",
       "      <td>41.25</td>\n",
       "      <td>Hitachi</td>\n",
       "    </tr>\n",
       "    <tr>\n",
       "      <th>89</th>\n",
       "      <td>Panasonic 2 Ton 5 Star Wi-Fi Inverter Smart Sp...</td>\n",
       "      <td>appliances</td>\n",
       "      <td>Air Conditioners</td>\n",
       "      <td>5.0</td>\n",
       "      <td>1.0</td>\n",
       "      <td>66990.0</td>\n",
       "      <td>87900.0</td>\n",
       "      <td>20910.0</td>\n",
       "      <td>23.79</td>\n",
       "      <td>Panasonic</td>\n",
       "    </tr>\n",
       "    <tr>\n",
       "      <th>97</th>\n",
       "      <td>Panasonic 1.5 Ton 3 Star Hot and Cold Wi-Fi In...</td>\n",
       "      <td>appliances</td>\n",
       "      <td>Air Conditioners</td>\n",
       "      <td>5.0</td>\n",
       "      <td>2.0</td>\n",
       "      <td>43990.0</td>\n",
       "      <td>61400.0</td>\n",
       "      <td>17410.0</td>\n",
       "      <td>28.36</td>\n",
       "      <td>Panasonic</td>\n",
       "    </tr>\n",
       "  </tbody>\n",
       "</table>\n",
       "</div>"
      ],
      "text/plain": [
       "                                                 name main_category  \\\n",
       "58  Hitachi Split Ac - 1.5 Ton Kiyora 5200Fx I Fre...    appliances   \n",
       "89  Panasonic 2 Ton 5 Star Wi-Fi Inverter Smart Sp...    appliances   \n",
       "97  Panasonic 1.5 Ton 3 Star Hot and Cold Wi-Fi In...    appliances   \n",
       "\n",
       "        sub_category  ratings  no_of_ratings  discount_price  actual_price  \\\n",
       "58  Air Conditioners      5.0            1.0         42240.0       71900.0   \n",
       "89  Air Conditioners      5.0            1.0         66990.0       87900.0   \n",
       "97  Air Conditioners      5.0            2.0         43990.0       61400.0   \n",
       "\n",
       "    Discount  Discount_Percentage(%) Manufacture  \n",
       "58   29660.0                   41.25     Hitachi  \n",
       "89   20910.0                   23.79   Panasonic  \n",
       "97   17410.0                   28.36   Panasonic  "
      ]
     },
     "execution_count": 112,
     "metadata": {},
     "output_type": "execute_result"
    }
   ],
   "source": [
    "#filtering data to include ratings=5\n",
    "toprating = amazon[amazon.ratings == 5.0]\n",
    "toprating.head(3)"
   ]
  },
  {
   "cell_type": "code",
   "execution_count": 113,
   "id": "93afd82f",
   "metadata": {},
   "outputs": [
    {
     "data": {
      "text/plain": [
       "Nike      361\n",
       "Puma      306\n",
       "The       242\n",
       "U.S.      218\n",
       "Van       206\n",
       "Peter     162\n",
       "Max       152\n",
       "Jockey    148\n",
       "Jack      145\n",
       "Baggit    140\n",
       "Name: Manufacture, dtype: int64"
      ]
     },
     "execution_count": 113,
     "metadata": {},
     "output_type": "execute_result"
    }
   ],
   "source": [
    "toprating.Manufacture.value_counts().head(10)"
   ]
  },
  {
   "cell_type": "code",
   "execution_count": 114,
   "id": "55a3874e",
   "metadata": {},
   "outputs": [
    {
     "data": {
      "image/png": "[encoded data removed]",
      "text/plain": [
       "<Figure size 800x300 with 1 Axes>"
      ]
     },
     "metadata": {},
     "output_type": "display_data"
    }
   ],
   "source": [
    "toprating.Manufacture.value_counts().head(10).plot(kind=\"bar\",figsize=(8,3), xlabel=\"Brands\",ylabel=\"Count\", colormap = 'viridis')\n",
    "plt.title(\"\\n Top Rated Brands (Top 10) \\n\")\n",
    "plt.show()"
   ]
  },
  {
   "cell_type": "markdown",
   "id": "a3d53931",
   "metadata": {},
   "source": [
    "- \"Nike\" and \"Puma\" are Top rated brands on Amazon with more than 300 5star ratings.\n",
    "- \"U.S.Polo\" and \"Van Heusen\" are also among top rated brands and have received around 250 5star ratings."
   ]
  },
  {
   "cell_type": "markdown",
   "id": "86486c51",
   "metadata": {},
   "source": [
    "### Top Rated Categories and Sub Categories"
   ]
  },
  {
   "cell_type": "code",
   "execution_count": 116,
   "id": "e4cba2ea",
   "metadata": {},
   "outputs": [
    {
     "data": {
      "image/png": "[encoded data removed]",
      "text/plain": [
       "<Figure size 1000x400 with 1 Axes>"
      ]
     },
     "metadata": {},
     "output_type": "display_data"
    }
   ],
   "source": [
    "toprating.main_category.value_counts().head(10).plot(kind=\"bar\",figsize=(10,4), xlabel=\"Category\",ylabel=\"Count\", colormap = 'viridis')\n",
    "plt.title(\"\\n Top Rated Category (Top 10) \\n\")\n",
    "plt.show()"
   ]
  },
  {
   "cell_type": "markdown",
   "id": "e2e66c2a",
   "metadata": {},
   "source": [
    "- \"accesories\" is the top rated category with around 8000 5star ratings\n",
    "- \"women's clothing\" and \"men's clothing\" are next top rated categories and have received around 5000 5star ratings "
   ]
  },
  {
   "cell_type": "code",
   "execution_count": 118,
   "id": "927e4d3c",
   "metadata": {},
   "outputs": [
    {
     "data": {
      "image/png": "[encoded data removed]",
      "text/plain": [
       "<Figure size 1000x400 with 1 Axes>"
      ]
     },
     "metadata": {},
     "output_type": "display_data"
    }
   ],
   "source": [
    "toprating.sub_category.value_counts().head(10).plot(kind=\"bar\",figsize=(10,4), xlabel=\"Sub-Category\", ylabel=\"Count\", colormap = 'viridis')\n",
    "plt.title(\"\\n Top Rated Sub-Category (Top 10) \\n\")\n",
    "plt.show()"
   ]
  },
  {
   "cell_type": "markdown",
   "id": "6c8df36b",
   "metadata": {},
   "source": [
    "Sub-category wise, \"Jewellery\" has received maximum 5star ratings followed by \"Handbags & Clutches\""
   ]
  },
  {
   "cell_type": "markdown",
   "id": "04ee54fd",
   "metadata": {},
   "source": [
    "### Total No. of Ratings"
   ]
  },
  {
   "cell_type": "code",
   "execution_count": 120,
   "id": "c9364f6f",
   "metadata": {},
   "outputs": [
    {
     "data": {
      "image/png": "[encoded data removed]",
      "text/plain": [
       "<Figure size 1100x400 with 1 Axes>"
      ]
     },
     "metadata": {},
     "output_type": "display_data"
    }
   ],
   "source": [
    "df = amazon[amazon.no_of_ratings != 0.0 ] #Excluding '0' values\n",
    "\n",
    "df.groupby(\"main_category\")['no_of_ratings'].mean().sort_values(ascending=False).plot(kind='bar',figsize=(11,4),colormap = 'viridis')\n",
    "plt.title(\"Total No. of Ratings - Main Category \\n\")\n",
    "plt.ylabel=(\"Total Ratings\")\n",
    "plt.show()"
   ]
  },
  {
   "cell_type": "markdown",
   "id": "2055d041",
   "metadata": {},
   "source": [
    "\"Tv audio & camera\" and \"toys & baby products\" categories have received maximum number of ratings from customer. It shows interest of customer on these product categories"
   ]
  },
  {
   "cell_type": "code",
   "execution_count": 121,
   "id": "fd5ef986",
   "metadata": {},
   "outputs": [
    {
     "data": {
      "image/png": "[encoded data removed]",
      "text/plain": [
       "<Figure size 1100x400 with 1 Axes>"
      ]
     },
     "metadata": {},
     "output_type": "display_data"
    }
   ],
   "source": [
    "df.groupby(\"Manufacture\")['no_of_ratings'].mean().sort_values(ascending=False).head(15).plot(kind='bar',figsize=(11,4),colormap = 'viridis')\n",
    "plt.title(\"Total No. of Ratings for Manufacturer \\n\")\n",
    "plt.ylabel=(\"Total Ratings\")\n",
    "plt.show()"
   ]
  },
  {
   "cell_type": "markdown",
   "id": "d1da7aa0",
   "metadata": {},
   "source": [
    "Gildan and TOZO brands have received highest number of ratings from customers"
   ]
  },
  {
   "cell_type": "markdown",
   "id": "c4e202f3",
   "metadata": {},
   "source": [
    "### Highest and Lowest Discounted Products Sub Categories"
   ]
  },
  {
   "cell_type": "code",
   "execution_count": 122,
   "id": "c60fcbb3",
   "metadata": {
    "scrolled": true
   },
   "outputs": [
    {
     "data": {
      "text/plain": [
       "main_category\n",
       "women's clothing      56.586502\n",
       "accessories           50.834414\n",
       "tv audio & cameras    46.801304\n",
       "bags & luggage        45.818756\n",
       "home & kitchen        45.769559\n",
       "sports & fitness      44.503817\n",
       "kids' fashion         43.973170\n",
       "car & motorbike       43.398568\n",
       "men's clothing        41.367156\n",
       "stores                40.269578\n",
       "Name: Discount_Percentage(%), dtype: float64"
      ]
     },
     "execution_count": 122,
     "metadata": {},
     "output_type": "execute_result"
    }
   ],
   "source": [
    "#Highest Discounted categories\n",
    "amazon.groupby([\"main_category\"])[\"Discount_Percentage(%)\"].mean().sort_values(ascending=False).head(10)"
   ]
  },
  {
   "cell_type": "code",
   "execution_count": 123,
   "id": "2f2c19b8",
   "metadata": {},
   "outputs": [
    {
     "data": {
      "image/png": "[encoded data removed]",
      "text/plain": [
       "<Figure size 1000x400 with 1 Axes>"
      ]
     },
     "metadata": {},
     "output_type": "display_data"
    }
   ],
   "source": [
    "plt.figure(figsize=(10,4))\n",
    "amazon.groupby([\"main_category\"])[\"Discount_Percentage(%)\"].mean().sort_values(ascending=False).head(10).plot(kind= 'bar',cmap='viridis')\n",
    "plt.xlabel(\"Category\")\n",
    "plt.title(\"Highest Discounted Categories\\n\")\n",
    "plt.show()"
   ]
  },
  {
   "cell_type": "markdown",
   "id": "ec7c05e3",
   "metadata": {},
   "source": [
    "\"women's clothing\" has had highest discounts in 2023 followed by \"accessories\". These may be due to stock clearance."
   ]
  },
  {
   "cell_type": "code",
   "execution_count": 124,
   "id": "8fffa2c2",
   "metadata": {},
   "outputs": [
    {
     "data": {
      "text/plain": [
       "main_category\n",
       "home kitchen pets          17.232941\n",
       "grocery & gourmet foods    18.285859\n",
       "pet supplies               31.398255\n",
       "beauty & health            31.644661\n",
       "toys & baby products       34.670547\n",
       "men's shoes                36.342124\n",
       "music                      37.342688\n",
       "appliances                 38.126839\n",
       "industrial supplies        38.457003\n",
       "women's shoes              39.159115\n",
       "Name: Discount_Percentage(%), dtype: float64"
      ]
     },
     "execution_count": 124,
     "metadata": {},
     "output_type": "execute_result"
    }
   ],
   "source": [
    "#Lowest Discounted categories\n",
    "amazon.groupby([\"main_category\"])[\"Discount_Percentage(%)\"].mean().sort_values().head(10)"
   ]
  },
  {
   "cell_type": "code",
   "execution_count": 125,
   "id": "62a65997",
   "metadata": {},
   "outputs": [
    {
     "data": {
      "image/png": "[encoded data removed]",
      "text/plain": [
       "<Figure size 1000x400 with 1 Axes>"
      ]
     },
     "metadata": {},
     "output_type": "display_data"
    }
   ],
   "source": [
    "plt.figure(figsize=(10,4))\n",
    "amazon.groupby([\"main_category\"])[\"Discount_Percentage(%)\"].mean().sort_values().head(10).plot(kind= 'bar',cmap='viridis')\n",
    "plt.xlabel(\"Category\")\n",
    "plt.title(\"Lowest Discounted Categories\\n\")\n",
    "plt.show()"
   ]
  },
  {
   "cell_type": "markdown",
   "id": "89a25277",
   "metadata": {},
   "source": [
    "The lowest discounts are on \"home kitchen pets\" and \"grocery & gourmey foods\" products"
   ]
  },
  {
   "cell_type": "markdown",
   "id": "d0548a0a",
   "metadata": {},
   "source": [
    "### Conclusion:\n",
    "\n",
    "In this project, we conducted Exploratory Data Analysis (EDA) on a large dataset of Amazon products and discounts for the year 2023. The dataset was initially messy, containing missing values, incorrect data types, and various anomalies. Through a systematic data cleaning process, we successfully prepared the data for analysis, ensuring its quality and reliability.\n",
    "\n",
    "Our analysis revealed several key insights and findings:\n",
    "\n",
    "- Top Manufacturers and Categories: We identified the top manufacturers on Amazon, with \"PC\" and \"Puma\" leading the way. In terms of product categories, \"accessories\" had the highest number of products, followed by \"women's clothing\" and \"tv audio & cameras.\"\n",
    "\n",
    "- Top Rated Brands and Categories: We found that \"Nike\" and \"Puma\" were the top-rated brands on Amazon, each receiving over 300 5-star ratings. Among categories, \"accessories\" received the most 5-star ratings, indicating high customer satisfaction.\n",
    "\n",
    "- Total Number of Ratings: \"Tv audio & camera\" and \"toys & baby products\" categories received the most ratings from customers, suggesting a high level of interest and engagement in these product categories.\n",
    "\n",
    "- Discount Analysis: We analyzed discounts across various categories and sub-categories. \"Women's clothing\" had the highest average discount percentage, followed by \"accessories.\" On the other hand, \"home kitchen pets\" and \"grocery & gourmet foods\" had the lowest average discount percentages, possibly due to the nature of these products.\n",
    "\n",
    "In conclusion, this EDA project has provided valuable insights into Amazon's product offerings and customer interactions in 2023. The cleaned and analyzed dataset can serve as a foundation for further in-depth analyses, such as price forecasting, customer segmentation, and recommendation systems, to help businesses make data-driven decisions and enhance their competitiveness on the Amazon platform. The findings also highlight the importance of understanding customer preferences and optimizing pricing strategies in the highly competitive e-commerce market.\n",
    "\n",
    "\n",
    "\n",
    "\n"
   ]
  },
  {
   "cell_type": "markdown",
   "id": "ae03a73e",
   "metadata": {},
   "source": [
    "Project by:\n",
    "Archana Kokate"
   ]
  }
 ],
 "metadata": {
  "kernelspec": {
   "display_name": "Python 3 (ipykernel)",
   "language": "python",
   "name": "python3"
  },
  "language_info": {
   "codemirror_mode": {
    "name": "ipython",
    "version": 3
   },
   "file_extension": ".py",
   "mimetype": "text/x-python",
   "name": "python",
   "nbconvert_exporter": "python",
   "pygments_lexer": "ipython3",
   "version": "3.9.13"
  }
 },
 "nbformat": 4,
 "nbformat_minor": 5
}
